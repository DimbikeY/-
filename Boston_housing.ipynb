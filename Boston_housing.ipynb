{
  "nbformat": 4,
  "nbformat_minor": 0,
  "metadata": {
    "colab": {
      "provenance": [],
      "authorship_tag": "ABX9TyN/iWz+epOs1p/jZWuvOCPD",
      "include_colab_link": true
    },
    "kernelspec": {
      "name": "python3",
      "display_name": "Python 3"
    },
    "language_info": {
      "name": "python"
    }
  },
  "cells": [
    {
      "cell_type": "markdown",
      "metadata": {
        "id": "view-in-github",
        "colab_type": "text"
      },
      "source": [
        "<a href=\"https://colab.research.google.com/github/DimbikeY/Neuronetworks/blob/main/Boston_housing.ipynb\" target=\"_parent\"><img src=\"https://colab.research.google.com/assets/colab-badge.svg\" alt=\"Open In Colab\"/></a>"
      ]
    },
    {
      "cell_type": "markdown",
      "source": [
        "# В данном мини-проекте предугадаем цены на дома в Бостоне на основе информации из 13 критериев (столбцов)\n",
        "## Поскольку эта задача относится к задачам регрессии, то нейрон на крайнем слое будет линейным без функции активации"
      ],
      "metadata": {
        "id": "PbqPiQ86Eocz"
      }
    },
    {
      "cell_type": "code",
      "source": [
        "import numpy as np\n",
        "from keras.datasets import boston_housing\n",
        "from keras.models import Sequential # так как слои сети идут последовательно\n",
        "from keras.layers import Dense # так как слои полносвязные"
      ],
      "metadata": {
        "id": "M7fPm26IFCXX"
      },
      "execution_count": 10,
      "outputs": []
    },
    {
      "cell_type": "code",
      "source": [
        "# Загрузим датасет\n",
        "(x_train, y_train), (x_test, y_test) = boston_housing.load_data()"
      ],
      "metadata": {
        "id": "uzk_NejaHxzW"
      },
      "execution_count": 11,
      "outputs": []
    },
    {
      "cell_type": "markdown",
      "source": [
        "### Теперь подготовим данные\n",
        "Будем применять стандартизацию, поскольку диапазон чисел в критериях сильно разнится\n",
        "Стандартизация заключается в том, что мы из каждого элемента вычитаем среднее значение и делим на стандартное отклонение"
      ],
      "metadata": {
        "id": "dPyAREvGGrL-"
      }
    },
    {
      "cell_type": "code",
      "source": [
        "mean = x_train.mean(axis = 0)\n",
        "std = x_train.std(axis = 0)\n",
        "x_train -= mean\n",
        "x_train /= std\n",
        "x_test -= mean\n",
        "x_test /= std"
      ],
      "metadata": {
        "id": "2jkVUwEHHM76"
      },
      "execution_count": 12,
      "outputs": []
    },
    {
      "cell_type": "code",
      "source": [
        "# Создаём нейронную сеть\n",
        "model = Sequential()\n",
        "model.add(Dense(128, activation = \"relu\", input_shape = (x_train.shape[1],))) # подаётся на вход плоский вектор\n",
        "model.add(Dense(1)) # одно действительное число - стоимость жилья"
      ],
      "metadata": {
        "id": "RsHdnR7KHiQH"
      },
      "execution_count": 13,
      "outputs": []
    },
    {
      "cell_type": "code",
      "source": [
        "# Скомпилируем сеть\n",
        "model.compile(optimizer = \"adam\", loss = \"mse\", metrics = \"mae\") # mae - mean absolute error, mse = mean squarred error"
      ],
      "metadata": {
        "id": "Hp1Q9jrXH9N0"
      },
      "execution_count": 14,
      "outputs": []
    },
    {
      "cell_type": "code",
      "source": [
        "# Обучаем сеть\n",
        "model.fit(x_train, y_train, epochs = 50, batch_size = 10, verbose = 1, validation_split= 0.2)"
      ],
      "metadata": {
        "id": "4w4_LP1KIsmZ"
      },
      "execution_count": null,
      "outputs": []
    },
    {
      "cell_type": "code",
      "source": [
        "# Оценим качество предсказывания\n",
        "mse, mae = model.evaluate(x_test, y_test, verbose = 0)\n",
        "print(mae)"
      ],
      "metadata": {
        "colab": {
          "base_uri": "https://localhost:8080/"
        },
        "id": "CVZI3HB-JcRc",
        "outputId": "07a8feff-54e6-42dc-c9cb-d946d6f123e3"
      },
      "execution_count": 18,
      "outputs": [
        {
          "output_type": "stream",
          "name": "stdout",
          "text": [
            "3.149679183959961\n"
          ]
        }
      ]
    },
    {
      "cell_type": "code",
      "source": [
        "# Оценим качество работы сети на тех данных, которых она не видела в процессе обучения для оценки обобщающей способности сети\n",
        "pred = model.predict(x_test)\n",
        "for i in range(1, 100, 10):\n",
        "  print(pred[1][0], y_test[1], \"Ошибка составляет порядка:\", pred[i][0] / y_test[i])"
      ],
      "metadata": {
        "colab": {
          "base_uri": "https://localhost:8080/"
        },
        "id": "J-pl-SFBI2on",
        "outputId": "8817eca7-671a-4723-b99d-236a7588aee3"
      },
      "execution_count": 23,
      "outputs": [
        {
          "output_type": "stream",
          "name": "stdout",
          "text": [
            "4/4 [==============================] - 0s 3ms/step\n",
            "18.259445 18.8 Ошибка составляет порядка: 0.9712470845973238\n",
            "18.259445 18.8 Ошибка составляет порядка: 1.1704177856445312\n",
            "18.259445 18.8 Ошибка составляет порядка: 1.5213686812157725\n",
            "18.259445 18.8 Ошибка составляет порядка: 0.9620740227665462\n",
            "18.259445 18.8 Ошибка составляет порядка: 1.0172561188818703\n",
            "18.259445 18.8 Ошибка составляет порядка: 0.9176083268790409\n",
            "18.259445 18.8 Ошибка составляет порядка: 1.402649624657085\n",
            "18.259445 18.8 Ошибка составляет порядка: 0.9350482837573901\n",
            "18.259445 18.8 Ошибка составляет порядка: 0.886371108052902\n",
            "18.259445 18.8 Ошибка составляет порядка: 1.079373308407363\n"
          ]
        }
      ]
    },
    {
      "cell_type": "code",
      "source": [
        "# Как можно увидеть, ошибка довольно серьёзная. Это связано с тем, что изначально у нас было недостаточно информации для применения алгоритмов машинного обучения\n"
      ],
      "metadata": {
        "id": "C69R6FIjJBMg"
      },
      "execution_count": 16,
      "outputs": []
    }
  ]
}